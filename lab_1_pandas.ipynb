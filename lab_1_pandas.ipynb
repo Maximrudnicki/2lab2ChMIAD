{
  "nbformat": 4,
  "nbformat_minor": 0,
  "metadata": {
    "kernelspec": {
      "display_name": "Python 3",
      "language": "python",
      "name": "python3"
    },
    "language_info": {
      "codemirror_mode": {
        "name": "ipython",
        "version": 3
      },
      "file_extension": ".py",
      "mimetype": "text/x-python",
      "name": "python",
      "nbconvert_exporter": "python",
      "pygments_lexer": "ipython3",
      "version": "3.7.6"
    },
    "colab": {
      "name": "lab-1-pandas-ru.ipynb",
      "provenance": [],
      "collapsed_sections": []
    }
  },
  "cells": [
    {
      "cell_type": "markdown",
      "metadata": {
        "id": "97qsF9GxHIot"
      },
      "source": [
        "## Лабораторная работа: работа с Pandas.\n",
        "\n",
        "> Блок с отступами\n",
        "\n",
        "\n",
        "\n",
        "Pandas - это библиотека Python, предоставляющая широкие возможности для анализа данных. С ее помощью очень удобно загружать, обрабатывать и анализировать табличные данные с помощью SQL-подобных запросов."
      ]
    },
    {
      "cell_type": "code",
      "metadata": {
        "id": "3O06j7vxHIou"
      },
      "source": [
        "import pandas as pd"
      ],
      "execution_count": null,
      "outputs": []
    },
    {
      "cell_type": "markdown",
      "metadata": {
        "id": "JBVK4sMkHIow"
      },
      "source": [
        "Основными структурами данных в Pandas являются классы Series и DataFrame. Первый из них представляет собой одномерный индексированный массив данных некоторого фиксированного типа. Второй - это двумерная структура данных, представляющая собой таблицу, каждый столбец которой содержит данные одного типа. Можно представлять её как словарь объектов типа Series."
      ]
    },
    {
      "cell_type": "markdown",
      "metadata": {
        "id": "EDrLwXpkHIox"
      },
      "source": [
        "С помощью библиотеки Pandas займемся анализом данных. Будем работать с данными о клиентах банка, который интересуется, произойдет ли просрочка платежа на 90 и более дней при выдаче кредита. Данные прилагаются в архиве к работе"
      ]
    },
    {
      "cell_type": "markdown",
      "metadata": {
        "id": "Qi7RYdz0HIox"
      },
      "source": [
        "### 1\n",
        "Прочтите данные из файла data.csv\n",
        "\n",
        "*Функции, которые могут пригодиться при решении: `pd.read_csv(..., delimiter=',')`*"
      ]
    },
    {
      "cell_type": "code",
      "metadata": {
        "id": "lEaY0lT5HIoy"
      },
      "source": [
        "# место для кода"
      ],
      "execution_count": null,
      "outputs": []
    },
    {
      "cell_type": "markdown",
      "metadata": {
        "id": "Gvayc0h4HIoz"
      },
      "source": [
        "### 2\n",
        "Выведите описание прочтенных данных. \n",
        "\n",
        "*Функции, которые могут пригодиться при решении: `.describe()`*"
      ]
    },
    {
      "cell_type": "code",
      "metadata": {
        "id": "Olo2sSnbHIoz"
      },
      "source": [
        "# место для кода"
      ],
      "execution_count": null,
      "outputs": []
    },
    {
      "cell_type": "markdown",
      "metadata": {
        "id": "waSCpqqvHIo0"
      },
      "source": [
        "### 3\n",
        "Отобразите несколько первых и несколько последних записей.\n",
        "\n",
        "*Функции, которые могут пригодиться при решении: `.head(), .tail()`*\n",
        "\n",
        "*Какие параметры можно передать этим функциям?*"
      ]
    },
    {
      "cell_type": "code",
      "metadata": {
        "id": "BRy1_XZiHIo1"
      },
      "source": [
        "# место для кода"
      ],
      "execution_count": null,
      "outputs": []
    },
    {
      "cell_type": "markdown",
      "metadata": {
        "id": "elwRays-HIo1"
      },
      "source": [
        "### 4\n",
        "Прочтите в файле `DataDictionary-ru.txt`, что означают столбцы матрицы. Какому типу принадлежит каждый столбец (вещественный, целый, категориальный)?"
      ]
    },
    {
      "cell_type": "code",
      "metadata": {
        "id": "vqTLKXtdHIo2"
      },
      "source": [
        "# место для ответа"
      ],
      "execution_count": null,
      "outputs": []
    },
    {
      "cell_type": "markdown",
      "metadata": {
        "id": "Jo5Wf6SdHIo2"
      },
      "source": [
        "### 5\n",
        "\n",
        "Заметьте, что столбец `DebtRatio` содержит неправдоподобные данные. Только значения, соответствующие известному месячному доходу, являются отношениями. Остальные – абсолютные значения месячных выплат процентов. \n",
        "\n",
        "Исправьте данные, сделав все значения столбца `DebtRatio` абсолютными (умножьте их на `MonthlyIncome`).  Чтобы ваша программа быстро работала на полных данных, постарайтесь не использовать цикл."
      ]
    },
    {
      "cell_type": "markdown",
      "metadata": {
        "id": "YHEL0pKlHIo3"
      },
      "source": [
        "#### *Функции, которые могут пригодиться при решении:*\n",
        "\n",
        "Обращение к элементам DataFrame:\n",
        "  * элемент: `data.loc[i, 'названиеСтолбца']`\n",
        "  * столбец: `data['названиеСтолбца']`\n",
        "  * подматрица: `data.loc[a:b, списокНазванийСтолбцов]`\n",
        "\n",
        "Условная индексация:\n",
        "* `data.loc[data['столбец'] > 20, списокНазванийСтолбцов]`\n",
        "\n",
        "лучше писать так:\n",
        "\n",
        "* `i = data['столбец'] > 20`  # вектор `True` и `False`\n",
        "* `data.loc[i, 'названиеСтолбца']`\n",
        "\n",
        "У подматриц номера строк наследуются от исходной.\n",
        "\n",
        "* `pandas.isnull(скаляр или массив)` - проверка, является ли значение неопределенным (`NaN`)\n",
        "* `pandas.notnull(скаляр или массив)` - проверка, является ли значение определенным (не `NaN`)"
      ]
    },
    {
      "cell_type": "code",
      "metadata": {
        "scrolled": true,
        "id": "AEwUeXfEHIo5"
      },
      "source": [
        "# место для кода"
      ],
      "execution_count": null,
      "outputs": []
    },
    {
      "cell_type": "markdown",
      "metadata": {
        "id": "sM5JpgoDHIo5"
      },
      "source": [
        "### 6\n",
        "\n",
        "Поменяйте имя столбца на `Debt`.\n",
        "\n",
        "*Функции, которые могут пригодиться при решении: `.rename(columns={'староеИмя':'новоеИмя'}, inplace=True)`*"
      ]
    },
    {
      "cell_type": "code",
      "metadata": {
        "id": "Ru41kbkwHIo6"
      },
      "source": [
        "# место для кода"
      ],
      "execution_count": null,
      "outputs": []
    },
    {
      "cell_type": "markdown",
      "metadata": {
        "id": "cb7mOSuGHIo7"
      },
      "source": [
        "### 7\n",
        "\n",
        "Вычислите средний ежемесячный доход и присвойте всем клиентам с неизвестным доходом полученное число.\n",
        "\n",
        "*Функции, которые могут пригодиться при решении: `.mean()`*\n",
        "\n",
        "*Другие описательные статистики:* https://pandas.pydata.org/pandas-docs/stable/reference/frame.html#computations-descriptive-stats"
      ]
    },
    {
      "cell_type": "code",
      "metadata": {
        "id": "30D_aj4sHIo8"
      },
      "source": [
        "# место для кода"
      ],
      "execution_count": null,
      "outputs": []
    },
    {
      "cell_type": "markdown",
      "metadata": {
        "id": "ADKJOvvvHIo8"
      },
      "source": [
        "### 8\n",
        "\n",
        "Используя метод `groupby`, оцените вероятности невозврата кредита (`SeriousDlqin2yrs=1`) для различных значений количества иждивенцев (`NumberOfDependents`).  \n",
        "\n",
        "Проделайте аналогичную процедуру для различных значений столбца `NumberRealEstateLoansOrLines`\n",
        "\n",
        "*Подсказка:*\n",
        "`data['столбец1'].groupby(data['столбец2']).mean()`  *-- расчет средних значений столбца1 по группам из столбца2*"
      ]
    },
    {
      "cell_type": "code",
      "metadata": {
        "scrolled": true,
        "id": "mt-yNsfAHIo9"
      },
      "source": [
        "# место для кода"
      ],
      "execution_count": null,
      "outputs": []
    },
    {
      "cell_type": "markdown",
      "metadata": {
        "id": "SaVAdfUyHIo-"
      },
      "source": [
        "## Визуализация данных"
      ]
    },
    {
      "cell_type": "code",
      "metadata": {
        "id": "TVt7NLVNHIo_"
      },
      "source": [
        "import matplotlib.pyplot as plt\n",
        "\n",
        "#  функция, позволяющая выводить графики прямо в ноутбук\n",
        "%matplotlib inline"
      ],
      "execution_count": null,
      "outputs": []
    },
    {
      "cell_type": "markdown",
      "metadata": {
        "id": "obzXkHHXHIo_"
      },
      "source": [
        "Matplotlib позволяет удобно визуализировать табличные данные.\n",
        "\n",
        "*Функции, которые могут пригодиться при решении:*\n",
        "\n",
        "* Рисование:\n",
        "   * `plt.plot(x, y)`  см. подробнее http://matplotlib.org/api/pyplot_api.html#matplotlib.pyplot.plot\n",
        "   * `plt.show()`\n",
        "   * `plt.scatter(x, y)` - график рассеяния, см. http://matplotlib.org/api/pyplot_api.html#matplotlib.pyplot.scatter\n",
        "   * `plt.hist()` - гистограмма, см. http://matplotlib.org/api/pyplot_api.html#matplotlib.pyplot.hist\n",
        "* Рисование нескольких графиков на одном:\n",
        "\n",
        "  `fig, ax = plt.subplots()\n",
        "   ax.hist(...)\n",
        "   ax.hist(...)\n",
        "   plt.show()`\n",
        "   \n",
        "* Логарифмическая шкала:\n",
        "    * `ax.set_xscale('log')`  или `ax.set_yscale('log')`\n",
        "* Ограничение области графика:\n",
        "    * `ax.axis([x1, x2, y1, y2])`\n",
        "\n",
        "\n",
        "### 9a\n",
        "\n",
        "Постройте график рассеяния на осях `age` и `Debt`. Cиним отметьте клиентов без серьезных задолженностей (`SeriousDlqin2yrs = 0`) и красным — должников (`SeriousDlqin2yrs = 1`)."
      ]
    },
    {
      "cell_type": "code",
      "metadata": {
        "id": "YLlu_VX3HIpA"
      },
      "source": [
        "# место для кода"
      ],
      "execution_count": null,
      "outputs": []
    },
    {
      "cell_type": "markdown",
      "metadata": {
        "id": "DrFaXQ5hHIpA"
      },
      "source": [
        "### 9b\n",
        "Постройте на одном графике две **нормированные** плотности распределения: красную – для месячного дохода клиентов с задолженностями, синюю – для месячного дохода клиентов без задолженностей. По оси абсцисс отобразите значения до 25000."
      ]
    },
    {
      "cell_type": "code",
      "metadata": {
        "id": "8unzfBiWHIpB"
      },
      "source": [
        "# место для кода"
      ],
      "execution_count": null,
      "outputs": []
    },
    {
      "cell_type": "markdown",
      "metadata": {
        "id": "MLl3PtQIHIpB"
      },
      "source": [
        "### 9c*\n",
        "Визуализируйте попарные зависимости между небинарными признаками `'age', 'MonthlyIncome', 'NumberOfDependents'`. Ограничьте при этом месячный доход значением 25000.\n",
        "\n",
        "Какие закономерности вы можете наблюдать на получившихся графиках?\n",
        "\n",
        "*Функции, которые могут пригодиться при решении: `pd.plotting.scatter_matrix()`*"
      ]
    },
    {
      "cell_type": "code",
      "metadata": {
        "id": "OMjEfNoGHIpC"
      },
      "source": [
        "# место для кода"
      ],
      "execution_count": null,
      "outputs": []
    }
  ]
}